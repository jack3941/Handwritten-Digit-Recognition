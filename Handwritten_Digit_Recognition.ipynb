{
  "nbformat": 4,
  "nbformat_minor": 0,
  "metadata": {
    "colab": {
      "provenance": []
    },
    "kernelspec": {
      "name": "python3",
      "display_name": "Python 3"
    },
    "language_info": {
      "name": "python"
    }
  },
  "cells": [
    {
      "cell_type": "code",
      "execution_count": 1,
      "metadata": {
        "id": "Tgw8erKA6tVz"
      },
      "outputs": [],
      "source": [
        "from torchvision import datasets\n",
        "from torchvision.transforms import ToTensor"
      ]
    },
    {
      "cell_type": "code",
      "source": [
        "train_data=datasets.MNIST(\n",
        "    root='data',\n",
        "    train=True,\n",
        "    transform=ToTensor(),\n",
        "    download=True\n",
        ")\n",
        "\n",
        "test_data=datasets.MNIST(\n",
        "    root='data',\n",
        "    train=False,\n",
        "    transform=ToTensor(),\n",
        "    download=True\n",
        ")"
      ],
      "metadata": {
        "colab": {
          "base_uri": "https://localhost:8080/"
        },
        "id": "ptt3HYMU603v",
        "outputId": "fcdbc90f-fefd-40c6-d34b-4033c6d4b137"
      },
      "execution_count": 2,
      "outputs": [
        {
          "output_type": "stream",
          "name": "stdout",
          "text": [
            "Downloading http://yann.lecun.com/exdb/mnist/train-images-idx3-ubyte.gz\n",
            "Downloading http://yann.lecun.com/exdb/mnist/train-images-idx3-ubyte.gz to data/MNIST/raw/train-images-idx3-ubyte.gz\n"
          ]
        },
        {
          "output_type": "stream",
          "name": "stderr",
          "text": [
            "100%|██████████| 9912422/9912422 [00:00<00:00, 70480567.10it/s]\n"
          ]
        },
        {
          "output_type": "stream",
          "name": "stdout",
          "text": [
            "Extracting data/MNIST/raw/train-images-idx3-ubyte.gz to data/MNIST/raw\n",
            "\n",
            "Downloading http://yann.lecun.com/exdb/mnist/train-labels-idx1-ubyte.gz\n",
            "Downloading http://yann.lecun.com/exdb/mnist/train-labels-idx1-ubyte.gz to data/MNIST/raw/train-labels-idx1-ubyte.gz\n"
          ]
        },
        {
          "output_type": "stream",
          "name": "stderr",
          "text": [
            "100%|██████████| 28881/28881 [00:00<00:00, 31052472.14it/s]"
          ]
        },
        {
          "output_type": "stream",
          "name": "stdout",
          "text": [
            "Extracting data/MNIST/raw/train-labels-idx1-ubyte.gz to data/MNIST/raw\n",
            "\n",
            "Downloading http://yann.lecun.com/exdb/mnist/t10k-images-idx3-ubyte.gz\n",
            "Downloading http://yann.lecun.com/exdb/mnist/t10k-images-idx3-ubyte.gz to data/MNIST/raw/t10k-images-idx3-ubyte.gz\n"
          ]
        },
        {
          "output_type": "stream",
          "name": "stderr",
          "text": [
            "\n",
            "100%|██████████| 1648877/1648877 [00:00<00:00, 33201590.96it/s]\n"
          ]
        },
        {
          "output_type": "stream",
          "name": "stdout",
          "text": [
            "Extracting data/MNIST/raw/t10k-images-idx3-ubyte.gz to data/MNIST/raw\n",
            "\n",
            "Downloading http://yann.lecun.com/exdb/mnist/t10k-labels-idx1-ubyte.gz\n",
            "Downloading http://yann.lecun.com/exdb/mnist/t10k-labels-idx1-ubyte.gz to data/MNIST/raw/t10k-labels-idx1-ubyte.gz\n"
          ]
        },
        {
          "output_type": "stream",
          "name": "stderr",
          "text": [
            "100%|██████████| 4542/4542 [00:00<00:00, 5441453.52it/s]"
          ]
        },
        {
          "output_type": "stream",
          "name": "stdout",
          "text": [
            "Extracting data/MNIST/raw/t10k-labels-idx1-ubyte.gz to data/MNIST/raw\n",
            "\n"
          ]
        },
        {
          "output_type": "stream",
          "name": "stderr",
          "text": [
            "\n"
          ]
        }
      ]
    },
    {
      "cell_type": "code",
      "source": [
        "print(train_data)"
      ],
      "metadata": {
        "colab": {
          "base_uri": "https://localhost:8080/"
        },
        "id": "C5-SEsF565VJ",
        "outputId": "5585890d-a5aa-4e63-bedb-60010f5cd2ab"
      },
      "execution_count": 3,
      "outputs": [
        {
          "output_type": "stream",
          "name": "stdout",
          "text": [
            "Dataset MNIST\n",
            "    Number of datapoints: 60000\n",
            "    Root location: data\n",
            "    Split: Train\n",
            "    StandardTransform\n",
            "Transform: ToTensor()\n"
          ]
        }
      ]
    },
    {
      "cell_type": "code",
      "source": [
        "print(test_data)"
      ],
      "metadata": {
        "colab": {
          "base_uri": "https://localhost:8080/"
        },
        "id": "Q5_IpGXj7Hl8",
        "outputId": "ea0a6a48-d70c-470c-af77-c2c814b2a193"
      },
      "execution_count": 4,
      "outputs": [
        {
          "output_type": "stream",
          "name": "stdout",
          "text": [
            "Dataset MNIST\n",
            "    Number of datapoints: 10000\n",
            "    Root location: data\n",
            "    Split: Test\n",
            "    StandardTransform\n",
            "Transform: ToTensor()\n"
          ]
        }
      ]
    },
    {
      "cell_type": "code",
      "source": [
        "train_data.data.shape"
      ],
      "metadata": {
        "colab": {
          "base_uri": "https://localhost:8080/"
        },
        "id": "fT8_HWlt7JK9",
        "outputId": "a952beeb-c108-4175-ca8d-edb70db7b62e"
      },
      "execution_count": 7,
      "outputs": [
        {
          "output_type": "execute_result",
          "data": {
            "text/plain": [
              "torch.Size([60000, 28, 28])"
            ]
          },
          "metadata": {},
          "execution_count": 7
        }
      ]
    },
    {
      "cell_type": "code",
      "source": [
        "test_data.data.shape"
      ],
      "metadata": {
        "colab": {
          "base_uri": "https://localhost:8080/"
        },
        "id": "dGTKWBE37O6R",
        "outputId": "17b227f6-7f2a-4022-c84d-2346209ef1ab"
      },
      "execution_count": 8,
      "outputs": [
        {
          "output_type": "execute_result",
          "data": {
            "text/plain": [
              "torch.Size([10000, 28, 28])"
            ]
          },
          "metadata": {},
          "execution_count": 8
        }
      ]
    },
    {
      "cell_type": "code",
      "source": [
        "train_data.targets.size()"
      ],
      "metadata": {
        "colab": {
          "base_uri": "https://localhost:8080/"
        },
        "id": "F1vx1-HS7VGi",
        "outputId": "e74b0d5f-b71b-421a-9395-085bc2706050"
      },
      "execution_count": 9,
      "outputs": [
        {
          "output_type": "execute_result",
          "data": {
            "text/plain": [
              "torch.Size([60000])"
            ]
          },
          "metadata": {},
          "execution_count": 9
        }
      ]
    },
    {
      "cell_type": "code",
      "source": [
        "train_data.targets"
      ],
      "metadata": {
        "colab": {
          "base_uri": "https://localhost:8080/"
        },
        "id": "Z-z1hBIX7eYk",
        "outputId": "2d2780f8-3eac-412c-e566-ebeb51160ac8"
      },
      "execution_count": 10,
      "outputs": [
        {
          "output_type": "execute_result",
          "data": {
            "text/plain": [
              "tensor([5, 0, 4,  ..., 5, 6, 8])"
            ]
          },
          "metadata": {},
          "execution_count": 10
        }
      ]
    },
    {
      "cell_type": "code",
      "source": [
        "from torch.utils.data import DataLoader\n",
        "\n",
        "loaders={\n",
        "\n",
        "         'train' : DataLoader( train_data , batch_size=100 , shuffle=True , num_workers=1),\n",
        "          'test' : DataLoader( test_data , batch_size=100 , shuffle=True , num_workers=1)\n",
        "\n",
        "}\n",
        "loaders"
      ],
      "metadata": {
        "colab": {
          "base_uri": "https://localhost:8080/"
        },
        "id": "2UKKZSkl7h9u",
        "outputId": "d1b3f59f-7766-4ef4-cbb2-5838518b3f6b"
      },
      "execution_count": 18,
      "outputs": [
        {
          "output_type": "execute_result",
          "data": {
            "text/plain": [
              "{'train': <torch.utils.data.dataloader.DataLoader at 0x7eb37f8fad40>,\n",
              " 'test': <torch.utils.data.dataloader.DataLoader at 0x7eb37f8fa290>}"
            ]
          },
          "metadata": {},
          "execution_count": 18
        }
      ]
    },
    {
      "cell_type": "code",
      "source": [
        "import torch.nn as nn\n",
        "import torch.nn.functional as F\n",
        "import torch.optim as optim\n",
        "\n",
        "\n",
        "\n",
        "class CNN(nn.Module):\n",
        "    def __init__(self):\n",
        "        super(CNN, self).__init__()\n",
        "\n",
        "        self.conv1 = nn.Conv2d(1, 10, kernel_size=5)\n",
        "        self.conv2 = nn.Conv2d(10, 20, kernel_size=5)\n",
        "        self.conv2_drop = nn.Dropout2d()\n",
        "        self.fc1 = nn.Linear(320, 50)\n",
        "        self.fc2 = nn.Linear(50, 10)\n",
        "\n",
        "    def forward(self, x):\n",
        "        x = F.relu(F.max_pool2d(self.conv1(x), 2))\n",
        "        x = F.relu(F.max_pool2d(self.conv2_drop(self.conv2(x)), 2))\n",
        "        x = x.view(-1, 320)\n",
        "        x = F.relu(self.fc1(x))\n",
        "        x = F.dropout(x, training=self.training)\n",
        "        x = self.fc2(x)\n",
        "\n",
        "        return F.log_softmax(x, dim=1)\n"
      ],
      "metadata": {
        "id": "OzF6MKZ0777H"
      },
      "execution_count": 54,
      "outputs": []
    },
    {
      "cell_type": "code",
      "source": [
        "import torch\n",
        "device=torch.device('cuda' if torch.cuda.is_available() else 'cpu')\n"
      ],
      "metadata": {
        "id": "DEFj1NLk98Mv"
      },
      "execution_count": 55,
      "outputs": []
    },
    {
      "cell_type": "code",
      "source": [
        "device\n"
      ],
      "metadata": {
        "colab": {
          "base_uri": "https://localhost:8080/"
        },
        "id": "WyZC-UDrBzKH",
        "outputId": "0a3b32e8-fa2b-4dab-d249-ca248e26f087"
      },
      "execution_count": 56,
      "outputs": [
        {
          "output_type": "execute_result",
          "data": {
            "text/plain": [
              "device(type='cpu')"
            ]
          },
          "metadata": {},
          "execution_count": 56
        }
      ]
    },
    {
      "cell_type": "code",
      "source": [
        "model = CNN().to(device)\n",
        "optimizer = optim.Adam(model.parameters(), lr=0.0001)\n",
        "loss_fn = nn.CrossEntropyLoss()\n",
        "\n",
        "def train(epoch):\n",
        "    model.train()\n",
        "    for batch_idx, (data, target) in enumerate(loaders['train']):\n",
        "        data, target = data.to(device), target.to(device)\n",
        "        optimizer.zero_grad()\n",
        "        output = model(data)\n",
        "        loss = loss_fn(output, target)\n",
        "        loss.backward()\n",
        "        optimizer.step()\n",
        "        if batch_idx % 20 == 0:\n",
        "            print(f\"Train Epoch: {epoch} [{batch_idx * len(data)}/{len(loaders['train'].dataset)} ({100. * batch_idx / len(loaders['train']):.0f}%)]\\t{loss.item():.6f}\")\n",
        "\n",
        "def test():\n",
        "    model.eval()\n",
        "\n",
        "    test_loss = 0\n",
        "    correct = 0\n",
        "\n",
        "    with torch.no_grad():\n",
        "        for data, target in loaders['test']:\n",
        "            data, target = data.to(device), target.to(device)\n",
        "            output = model(data)\n",
        "            test_loss += loss_fn(output, target).item()\n",
        "            pred = output.argmax(dim=1, keepdim=True)\n",
        "            correct += pred.eq(target.view_as(pred)).sum().item()\n",
        "\n",
        "    test_loss /= len(loaders['test'].dataset)\n",
        "    print(f'\\nTest set: Average Loss: {test_loss:.4f}, Accuracy: {correct}/{len(loaders[\"test\"].dataset)} ({100. * correct / len(loaders[\"test\"].dataset):.0f}%)\\n')\n"
      ],
      "metadata": {
        "id": "-oJfCC_-FonD"
      },
      "execution_count": 68,
      "outputs": []
    },
    {
      "cell_type": "code",
      "source": [
        "for epoch in range (1,11):\n",
        "  train(epoch)\n",
        "  test()"
      ],
      "metadata": {
        "colab": {
          "base_uri": "https://localhost:8080/"
        },
        "id": "O-gTX3ulIZ91",
        "outputId": "af2ea064-8542-4fe9-80b8-a34dfd5dbef6"
      },
      "execution_count": 70,
      "outputs": [
        {
          "output_type": "stream",
          "name": "stdout",
          "text": [
            "Train Epoch: 1 [0/60000 (0%)]\t0.695202\n",
            "Train Epoch: 1 [2000/60000 (3%)]\t0.320941\n",
            "Train Epoch: 1 [4000/60000 (7%)]\t0.404546\n",
            "Train Epoch: 1 [6000/60000 (10%)]\t0.297219\n",
            "Train Epoch: 1 [8000/60000 (13%)]\t0.431414\n",
            "Train Epoch: 1 [10000/60000 (17%)]\t0.408758\n",
            "Train Epoch: 1 [12000/60000 (20%)]\t0.636909\n",
            "Train Epoch: 1 [14000/60000 (23%)]\t0.399370\n",
            "Train Epoch: 1 [16000/60000 (27%)]\t0.402276\n",
            "Train Epoch: 1 [18000/60000 (30%)]\t0.257745\n",
            "Train Epoch: 1 [20000/60000 (33%)]\t0.342560\n",
            "Train Epoch: 1 [22000/60000 (37%)]\t0.388480\n",
            "Train Epoch: 1 [24000/60000 (40%)]\t0.537657\n",
            "Train Epoch: 1 [26000/60000 (43%)]\t0.345845\n",
            "Train Epoch: 1 [28000/60000 (47%)]\t0.368557\n",
            "Train Epoch: 1 [30000/60000 (50%)]\t0.307662\n",
            "Train Epoch: 1 [32000/60000 (53%)]\t0.330272\n",
            "Train Epoch: 1 [34000/60000 (57%)]\t0.497003\n",
            "Train Epoch: 1 [36000/60000 (60%)]\t0.410729\n",
            "Train Epoch: 1 [38000/60000 (63%)]\t0.377184\n",
            "Train Epoch: 1 [40000/60000 (67%)]\t0.238338\n",
            "Train Epoch: 1 [42000/60000 (70%)]\t0.560731\n",
            "Train Epoch: 1 [44000/60000 (73%)]\t0.480662\n",
            "Train Epoch: 1 [46000/60000 (77%)]\t0.416162\n",
            "Train Epoch: 1 [48000/60000 (80%)]\t0.355671\n",
            "Train Epoch: 1 [50000/60000 (83%)]\t0.294632\n",
            "Train Epoch: 1 [52000/60000 (87%)]\t0.335015\n",
            "Train Epoch: 1 [54000/60000 (90%)]\t0.242113\n",
            "Train Epoch: 1 [56000/60000 (93%)]\t0.508446\n",
            "Train Epoch: 1 [58000/60000 (97%)]\t0.647008\n",
            "\n",
            "Test set: Average Loss: 0.0018, Accuracy: 9472/10000 (95%)\n",
            "\n",
            "Train Epoch: 2 [0/60000 (0%)]\t0.383174\n",
            "Train Epoch: 2 [2000/60000 (3%)]\t0.319400\n",
            "Train Epoch: 2 [4000/60000 (7%)]\t0.420307\n",
            "Train Epoch: 2 [6000/60000 (10%)]\t0.432486\n",
            "Train Epoch: 2 [8000/60000 (13%)]\t0.449103\n",
            "Train Epoch: 2 [10000/60000 (17%)]\t0.369416\n",
            "Train Epoch: 2 [12000/60000 (20%)]\t0.537947\n",
            "Train Epoch: 2 [14000/60000 (23%)]\t0.345345\n",
            "Train Epoch: 2 [16000/60000 (27%)]\t0.462527\n",
            "Train Epoch: 2 [18000/60000 (30%)]\t0.341731\n",
            "Train Epoch: 2 [20000/60000 (33%)]\t0.362593\n",
            "Train Epoch: 2 [22000/60000 (37%)]\t0.478939\n",
            "Train Epoch: 2 [24000/60000 (40%)]\t0.366397\n",
            "Train Epoch: 2 [26000/60000 (43%)]\t0.456488\n",
            "Train Epoch: 2 [28000/60000 (47%)]\t0.316368\n",
            "Train Epoch: 2 [30000/60000 (50%)]\t0.246944\n",
            "Train Epoch: 2 [32000/60000 (53%)]\t0.584385\n",
            "Train Epoch: 2 [34000/60000 (57%)]\t0.482255\n",
            "Train Epoch: 2 [36000/60000 (60%)]\t0.414680\n",
            "Train Epoch: 2 [38000/60000 (63%)]\t0.370797\n",
            "Train Epoch: 2 [40000/60000 (67%)]\t0.307859\n",
            "Train Epoch: 2 [42000/60000 (70%)]\t0.298867\n",
            "Train Epoch: 2 [44000/60000 (73%)]\t0.259184\n",
            "Train Epoch: 2 [46000/60000 (77%)]\t0.253350\n",
            "Train Epoch: 2 [48000/60000 (80%)]\t0.318875\n",
            "Train Epoch: 2 [50000/60000 (83%)]\t0.215237\n",
            "Train Epoch: 2 [52000/60000 (87%)]\t0.606506\n",
            "Train Epoch: 2 [54000/60000 (90%)]\t0.213439\n",
            "Train Epoch: 2 [56000/60000 (93%)]\t0.354997\n",
            "Train Epoch: 2 [58000/60000 (97%)]\t0.447042\n",
            "\n",
            "Test set: Average Loss: 0.0016, Accuracy: 9507/10000 (95%)\n",
            "\n",
            "Train Epoch: 3 [0/60000 (0%)]\t0.380574\n",
            "Train Epoch: 3 [2000/60000 (3%)]\t0.286977\n",
            "Train Epoch: 3 [4000/60000 (7%)]\t0.438085\n",
            "Train Epoch: 3 [6000/60000 (10%)]\t0.505715\n",
            "Train Epoch: 3 [8000/60000 (13%)]\t0.386107\n",
            "Train Epoch: 3 [10000/60000 (17%)]\t0.473884\n",
            "Train Epoch: 3 [12000/60000 (20%)]\t0.283292\n",
            "Train Epoch: 3 [14000/60000 (23%)]\t0.256824\n",
            "Train Epoch: 3 [16000/60000 (27%)]\t0.287626\n",
            "Train Epoch: 3 [18000/60000 (30%)]\t0.425331\n",
            "Train Epoch: 3 [20000/60000 (33%)]\t0.441222\n",
            "Train Epoch: 3 [22000/60000 (37%)]\t0.321337\n",
            "Train Epoch: 3 [24000/60000 (40%)]\t0.407470\n",
            "Train Epoch: 3 [26000/60000 (43%)]\t0.370611\n",
            "Train Epoch: 3 [28000/60000 (47%)]\t0.356417\n",
            "Train Epoch: 3 [30000/60000 (50%)]\t0.353433\n",
            "Train Epoch: 3 [32000/60000 (53%)]\t0.339419\n",
            "Train Epoch: 3 [34000/60000 (57%)]\t0.270219\n",
            "Train Epoch: 3 [36000/60000 (60%)]\t0.280058\n",
            "Train Epoch: 3 [38000/60000 (63%)]\t0.251023\n",
            "Train Epoch: 3 [40000/60000 (67%)]\t0.257427\n",
            "Train Epoch: 3 [42000/60000 (70%)]\t0.187222\n",
            "Train Epoch: 3 [44000/60000 (73%)]\t0.311571\n",
            "Train Epoch: 3 [46000/60000 (77%)]\t0.250673\n",
            "Train Epoch: 3 [48000/60000 (80%)]\t0.324931\n",
            "Train Epoch: 3 [50000/60000 (83%)]\t0.323457\n",
            "Train Epoch: 3 [52000/60000 (87%)]\t0.514218\n",
            "Train Epoch: 3 [54000/60000 (90%)]\t0.477888\n",
            "Train Epoch: 3 [56000/60000 (93%)]\t0.291434\n",
            "Train Epoch: 3 [58000/60000 (97%)]\t0.324414\n",
            "\n",
            "Test set: Average Loss: 0.0014, Accuracy: 9556/10000 (96%)\n",
            "\n",
            "Train Epoch: 4 [0/60000 (0%)]\t0.426051\n",
            "Train Epoch: 4 [2000/60000 (3%)]\t0.318770\n",
            "Train Epoch: 4 [4000/60000 (7%)]\t0.242181\n",
            "Train Epoch: 4 [6000/60000 (10%)]\t0.262113\n",
            "Train Epoch: 4 [8000/60000 (13%)]\t0.282134\n",
            "Train Epoch: 4 [10000/60000 (17%)]\t0.248363\n",
            "Train Epoch: 4 [12000/60000 (20%)]\t0.477975\n",
            "Train Epoch: 4 [14000/60000 (23%)]\t0.179793\n",
            "Train Epoch: 4 [16000/60000 (27%)]\t0.602020\n",
            "Train Epoch: 4 [18000/60000 (30%)]\t0.291960\n",
            "Train Epoch: 4 [20000/60000 (33%)]\t0.245820\n",
            "Train Epoch: 4 [22000/60000 (37%)]\t0.348963\n",
            "Train Epoch: 4 [24000/60000 (40%)]\t0.359977\n",
            "Train Epoch: 4 [26000/60000 (43%)]\t0.281269\n",
            "Train Epoch: 4 [28000/60000 (47%)]\t0.398300\n",
            "Train Epoch: 4 [30000/60000 (50%)]\t0.371561\n",
            "Train Epoch: 4 [32000/60000 (53%)]\t0.434170\n",
            "Train Epoch: 4 [34000/60000 (57%)]\t0.242973\n",
            "Train Epoch: 4 [36000/60000 (60%)]\t0.249497\n",
            "Train Epoch: 4 [38000/60000 (63%)]\t0.253323\n",
            "Train Epoch: 4 [40000/60000 (67%)]\t0.389384\n",
            "Train Epoch: 4 [42000/60000 (70%)]\t0.375803\n",
            "Train Epoch: 4 [44000/60000 (73%)]\t0.332495\n",
            "Train Epoch: 4 [46000/60000 (77%)]\t0.392746\n",
            "Train Epoch: 4 [48000/60000 (80%)]\t0.305900\n",
            "Train Epoch: 4 [50000/60000 (83%)]\t0.289826\n",
            "Train Epoch: 4 [52000/60000 (87%)]\t0.250281\n",
            "Train Epoch: 4 [54000/60000 (90%)]\t0.231929\n",
            "Train Epoch: 4 [56000/60000 (93%)]\t0.272870\n",
            "Train Epoch: 4 [58000/60000 (97%)]\t0.401491\n",
            "\n",
            "Test set: Average Loss: 0.0013, Accuracy: 9591/10000 (96%)\n",
            "\n",
            "Train Epoch: 5 [0/60000 (0%)]\t0.177965\n",
            "Train Epoch: 5 [2000/60000 (3%)]\t0.365476\n",
            "Train Epoch: 5 [4000/60000 (7%)]\t0.244858\n",
            "Train Epoch: 5 [6000/60000 (10%)]\t0.308090\n",
            "Train Epoch: 5 [8000/60000 (13%)]\t0.241672\n",
            "Train Epoch: 5 [10000/60000 (17%)]\t0.244575\n",
            "Train Epoch: 5 [12000/60000 (20%)]\t0.291429\n",
            "Train Epoch: 5 [14000/60000 (23%)]\t0.160230\n",
            "Train Epoch: 5 [16000/60000 (27%)]\t0.268762\n",
            "Train Epoch: 5 [18000/60000 (30%)]\t0.141752\n",
            "Train Epoch: 5 [20000/60000 (33%)]\t0.346451\n",
            "Train Epoch: 5 [22000/60000 (37%)]\t0.259662\n",
            "Train Epoch: 5 [24000/60000 (40%)]\t0.313772\n",
            "Train Epoch: 5 [26000/60000 (43%)]\t0.361793\n",
            "Train Epoch: 5 [28000/60000 (47%)]\t0.295046\n",
            "Train Epoch: 5 [30000/60000 (50%)]\t0.210756\n",
            "Train Epoch: 5 [32000/60000 (53%)]\t0.218190\n",
            "Train Epoch: 5 [34000/60000 (57%)]\t0.187438\n",
            "Train Epoch: 5 [36000/60000 (60%)]\t0.199182\n",
            "Train Epoch: 5 [38000/60000 (63%)]\t0.227420\n",
            "Train Epoch: 5 [40000/60000 (67%)]\t0.246067\n",
            "Train Epoch: 5 [42000/60000 (70%)]\t0.327592\n",
            "Train Epoch: 5 [44000/60000 (73%)]\t0.423748\n",
            "Train Epoch: 5 [46000/60000 (77%)]\t0.257645\n",
            "Train Epoch: 5 [48000/60000 (80%)]\t0.226386\n",
            "Train Epoch: 5 [50000/60000 (83%)]\t0.350909\n",
            "Train Epoch: 5 [52000/60000 (87%)]\t0.309192\n",
            "Train Epoch: 5 [54000/60000 (90%)]\t0.421828\n",
            "Train Epoch: 5 [56000/60000 (93%)]\t0.189238\n",
            "Train Epoch: 5 [58000/60000 (97%)]\t0.461851\n",
            "\n",
            "Test set: Average Loss: 0.0012, Accuracy: 9608/10000 (96%)\n",
            "\n",
            "Train Epoch: 6 [0/60000 (0%)]\t0.362028\n",
            "Train Epoch: 6 [2000/60000 (3%)]\t0.238287\n",
            "Train Epoch: 6 [4000/60000 (7%)]\t0.232804\n",
            "Train Epoch: 6 [6000/60000 (10%)]\t0.410831\n",
            "Train Epoch: 6 [8000/60000 (13%)]\t0.375029\n",
            "Train Epoch: 6 [10000/60000 (17%)]\t0.387013\n",
            "Train Epoch: 6 [12000/60000 (20%)]\t0.144964\n",
            "Train Epoch: 6 [14000/60000 (23%)]\t0.449722\n",
            "Train Epoch: 6 [16000/60000 (27%)]\t0.359365\n",
            "Train Epoch: 6 [18000/60000 (30%)]\t0.221174\n",
            "Train Epoch: 6 [20000/60000 (33%)]\t0.276393\n",
            "Train Epoch: 6 [22000/60000 (37%)]\t0.336674\n",
            "Train Epoch: 6 [24000/60000 (40%)]\t0.414404\n",
            "Train Epoch: 6 [26000/60000 (43%)]\t0.251178\n",
            "Train Epoch: 6 [28000/60000 (47%)]\t0.159010\n",
            "Train Epoch: 6 [30000/60000 (50%)]\t0.337657\n",
            "Train Epoch: 6 [32000/60000 (53%)]\t0.277061\n",
            "Train Epoch: 6 [34000/60000 (57%)]\t0.357168\n",
            "Train Epoch: 6 [36000/60000 (60%)]\t0.353917\n",
            "Train Epoch: 6 [38000/60000 (63%)]\t0.291844\n",
            "Train Epoch: 6 [40000/60000 (67%)]\t0.329780\n",
            "Train Epoch: 6 [42000/60000 (70%)]\t0.244962\n",
            "Train Epoch: 6 [44000/60000 (73%)]\t0.205297\n",
            "Train Epoch: 6 [46000/60000 (77%)]\t0.283649\n",
            "Train Epoch: 6 [48000/60000 (80%)]\t0.274117\n",
            "Train Epoch: 6 [50000/60000 (83%)]\t0.187990\n",
            "Train Epoch: 6 [52000/60000 (87%)]\t0.216338\n",
            "Train Epoch: 6 [54000/60000 (90%)]\t0.283372\n",
            "Train Epoch: 6 [56000/60000 (93%)]\t0.273481\n",
            "Train Epoch: 6 [58000/60000 (97%)]\t0.401035\n",
            "\n",
            "Test set: Average Loss: 0.0011, Accuracy: 9636/10000 (96%)\n",
            "\n",
            "Train Epoch: 7 [0/60000 (0%)]\t0.258049\n",
            "Train Epoch: 7 [2000/60000 (3%)]\t0.292640\n",
            "Train Epoch: 7 [4000/60000 (7%)]\t0.283367\n",
            "Train Epoch: 7 [6000/60000 (10%)]\t0.256996\n",
            "Train Epoch: 7 [8000/60000 (13%)]\t0.170456\n",
            "Train Epoch: 7 [10000/60000 (17%)]\t0.325091\n",
            "Train Epoch: 7 [12000/60000 (20%)]\t0.288041\n",
            "Train Epoch: 7 [14000/60000 (23%)]\t0.346173\n",
            "Train Epoch: 7 [16000/60000 (27%)]\t0.435597\n",
            "Train Epoch: 7 [18000/60000 (30%)]\t0.183061\n",
            "Train Epoch: 7 [20000/60000 (33%)]\t0.387817\n",
            "Train Epoch: 7 [22000/60000 (37%)]\t0.286671\n",
            "Train Epoch: 7 [24000/60000 (40%)]\t0.329996\n",
            "Train Epoch: 7 [26000/60000 (43%)]\t0.338995\n",
            "Train Epoch: 7 [28000/60000 (47%)]\t0.288076\n",
            "Train Epoch: 7 [30000/60000 (50%)]\t0.505024\n",
            "Train Epoch: 7 [32000/60000 (53%)]\t0.210475\n",
            "Train Epoch: 7 [34000/60000 (57%)]\t0.210591\n",
            "Train Epoch: 7 [36000/60000 (60%)]\t0.367866\n",
            "Train Epoch: 7 [38000/60000 (63%)]\t0.322559\n",
            "Train Epoch: 7 [40000/60000 (67%)]\t0.241266\n",
            "Train Epoch: 7 [42000/60000 (70%)]\t0.210316\n",
            "Train Epoch: 7 [44000/60000 (73%)]\t0.550649\n",
            "Train Epoch: 7 [46000/60000 (77%)]\t0.428528\n",
            "Train Epoch: 7 [48000/60000 (80%)]\t0.396047\n",
            "Train Epoch: 7 [50000/60000 (83%)]\t0.245674\n",
            "Train Epoch: 7 [52000/60000 (87%)]\t0.386379\n",
            "Train Epoch: 7 [54000/60000 (90%)]\t0.219273\n",
            "Train Epoch: 7 [56000/60000 (93%)]\t0.389598\n",
            "Train Epoch: 7 [58000/60000 (97%)]\t0.305424\n",
            "\n",
            "Test set: Average Loss: 0.0011, Accuracy: 9644/10000 (96%)\n",
            "\n",
            "Train Epoch: 8 [0/60000 (0%)]\t0.384970\n",
            "Train Epoch: 8 [2000/60000 (3%)]\t0.227096\n",
            "Train Epoch: 8 [4000/60000 (7%)]\t0.367381\n",
            "Train Epoch: 8 [6000/60000 (10%)]\t0.263614\n",
            "Train Epoch: 8 [8000/60000 (13%)]\t0.339834\n",
            "Train Epoch: 8 [10000/60000 (17%)]\t0.398616\n",
            "Train Epoch: 8 [12000/60000 (20%)]\t0.276511\n",
            "Train Epoch: 8 [14000/60000 (23%)]\t0.261356\n",
            "Train Epoch: 8 [16000/60000 (27%)]\t0.306913\n",
            "Train Epoch: 8 [18000/60000 (30%)]\t0.259637\n",
            "Train Epoch: 8 [20000/60000 (33%)]\t0.257590\n",
            "Train Epoch: 8 [22000/60000 (37%)]\t0.211874\n",
            "Train Epoch: 8 [24000/60000 (40%)]\t0.169878\n",
            "Train Epoch: 8 [26000/60000 (43%)]\t0.214496\n",
            "Train Epoch: 8 [28000/60000 (47%)]\t0.208043\n",
            "Train Epoch: 8 [30000/60000 (50%)]\t0.221979\n",
            "Train Epoch: 8 [32000/60000 (53%)]\t0.274609\n",
            "Train Epoch: 8 [34000/60000 (57%)]\t0.233220\n",
            "Train Epoch: 8 [36000/60000 (60%)]\t0.192473\n",
            "Train Epoch: 8 [38000/60000 (63%)]\t0.316229\n",
            "Train Epoch: 8 [40000/60000 (67%)]\t0.218932\n",
            "Train Epoch: 8 [42000/60000 (70%)]\t0.527239\n",
            "Train Epoch: 8 [44000/60000 (73%)]\t0.288913\n",
            "Train Epoch: 8 [46000/60000 (77%)]\t0.153712\n",
            "Train Epoch: 8 [48000/60000 (80%)]\t0.314104\n",
            "Train Epoch: 8 [50000/60000 (83%)]\t0.329159\n",
            "Train Epoch: 8 [52000/60000 (87%)]\t0.311420\n",
            "Train Epoch: 8 [54000/60000 (90%)]\t0.313317\n",
            "Train Epoch: 8 [56000/60000 (93%)]\t0.457683\n",
            "Train Epoch: 8 [58000/60000 (97%)]\t0.246425\n",
            "\n",
            "Test set: Average Loss: 0.0010, Accuracy: 9664/10000 (97%)\n",
            "\n",
            "Train Epoch: 9 [0/60000 (0%)]\t0.263072\n",
            "Train Epoch: 9 [2000/60000 (3%)]\t0.170577\n",
            "Train Epoch: 9 [4000/60000 (7%)]\t0.216045\n",
            "Train Epoch: 9 [6000/60000 (10%)]\t0.249318\n",
            "Train Epoch: 9 [8000/60000 (13%)]\t0.191975\n",
            "Train Epoch: 9 [10000/60000 (17%)]\t0.464679\n",
            "Train Epoch: 9 [12000/60000 (20%)]\t0.243243\n",
            "Train Epoch: 9 [14000/60000 (23%)]\t0.236037\n",
            "Train Epoch: 9 [16000/60000 (27%)]\t0.259835\n",
            "Train Epoch: 9 [18000/60000 (30%)]\t0.277111\n",
            "Train Epoch: 9 [20000/60000 (33%)]\t0.184509\n",
            "Train Epoch: 9 [22000/60000 (37%)]\t0.237215\n",
            "Train Epoch: 9 [24000/60000 (40%)]\t0.420389\n",
            "Train Epoch: 9 [26000/60000 (43%)]\t0.303224\n",
            "Train Epoch: 9 [28000/60000 (47%)]\t0.188616\n",
            "Train Epoch: 9 [30000/60000 (50%)]\t0.194251\n",
            "Train Epoch: 9 [32000/60000 (53%)]\t0.176952\n",
            "Train Epoch: 9 [34000/60000 (57%)]\t0.290644\n",
            "Train Epoch: 9 [36000/60000 (60%)]\t0.208352\n",
            "Train Epoch: 9 [38000/60000 (63%)]\t0.293489\n",
            "Train Epoch: 9 [40000/60000 (67%)]\t0.211253\n",
            "Train Epoch: 9 [42000/60000 (70%)]\t0.241099\n",
            "Train Epoch: 9 [44000/60000 (73%)]\t0.265659\n",
            "Train Epoch: 9 [46000/60000 (77%)]\t0.246408\n",
            "Train Epoch: 9 [48000/60000 (80%)]\t0.328064\n",
            "Train Epoch: 9 [50000/60000 (83%)]\t0.238652\n",
            "Train Epoch: 9 [52000/60000 (87%)]\t0.326967\n",
            "Train Epoch: 9 [54000/60000 (90%)]\t0.325330\n",
            "Train Epoch: 9 [56000/60000 (93%)]\t0.229962\n",
            "Train Epoch: 9 [58000/60000 (97%)]\t0.179982\n",
            "\n",
            "Test set: Average Loss: 0.0010, Accuracy: 9688/10000 (97%)\n",
            "\n",
            "Train Epoch: 10 [0/60000 (0%)]\t0.179879\n",
            "Train Epoch: 10 [2000/60000 (3%)]\t0.209242\n",
            "Train Epoch: 10 [4000/60000 (7%)]\t0.387419\n",
            "Train Epoch: 10 [6000/60000 (10%)]\t0.495018\n",
            "Train Epoch: 10 [8000/60000 (13%)]\t0.252111\n",
            "Train Epoch: 10 [10000/60000 (17%)]\t0.212508\n",
            "Train Epoch: 10 [12000/60000 (20%)]\t0.204709\n",
            "Train Epoch: 10 [14000/60000 (23%)]\t0.481531\n",
            "Train Epoch: 10 [16000/60000 (27%)]\t0.285366\n",
            "Train Epoch: 10 [18000/60000 (30%)]\t0.240444\n",
            "Train Epoch: 10 [20000/60000 (33%)]\t0.224853\n",
            "Train Epoch: 10 [22000/60000 (37%)]\t0.143281\n",
            "Train Epoch: 10 [24000/60000 (40%)]\t0.262795\n",
            "Train Epoch: 10 [26000/60000 (43%)]\t0.156730\n",
            "Train Epoch: 10 [28000/60000 (47%)]\t0.244848\n",
            "Train Epoch: 10 [30000/60000 (50%)]\t0.180667\n",
            "Train Epoch: 10 [32000/60000 (53%)]\t0.265465\n",
            "Train Epoch: 10 [34000/60000 (57%)]\t0.131698\n",
            "Train Epoch: 10 [36000/60000 (60%)]\t0.283734\n",
            "Train Epoch: 10 [38000/60000 (63%)]\t0.446204\n",
            "Train Epoch: 10 [40000/60000 (67%)]\t0.237313\n",
            "Train Epoch: 10 [42000/60000 (70%)]\t0.292966\n",
            "Train Epoch: 10 [44000/60000 (73%)]\t0.277885\n",
            "Train Epoch: 10 [46000/60000 (77%)]\t0.304859\n",
            "Train Epoch: 10 [48000/60000 (80%)]\t0.175739\n",
            "Train Epoch: 10 [50000/60000 (83%)]\t0.243182\n",
            "Train Epoch: 10 [52000/60000 (87%)]\t0.261557\n",
            "Train Epoch: 10 [54000/60000 (90%)]\t0.243909\n",
            "Train Epoch: 10 [56000/60000 (93%)]\t0.266346\n",
            "Train Epoch: 10 [58000/60000 (97%)]\t0.223025\n",
            "\n",
            "Test set: Average Loss: 0.0009, Accuracy: 9696/10000 (97%)\n",
            "\n"
          ]
        }
      ]
    },
    {
      "cell_type": "code",
      "source": [
        "import matplotlib.pyplot as plt\n",
        "\n",
        "model.eval()\n",
        "data,target=test_data[0]\n",
        "data = data.unsqueeze(0).to(device)\n",
        "output=model(data)\n",
        "prediction=output.argmax(dim=1,keepdim=True).item()\n",
        "print(f'prediction: {prediction}')\n",
        "image =data.squeeze(0).squeeze(0).cpu().numpy()\n",
        "plt.imshow(image ,cmap='gray')\n",
        "plt.show()"
      ],
      "metadata": {
        "colab": {
          "base_uri": "https://localhost:8080/",
          "height": 448
        },
        "id": "iUGSwBPnOU14",
        "outputId": "61754abc-b4e2-4ded-a33e-5f0baf9c1dee"
      },
      "execution_count": 78,
      "outputs": [
        {
          "output_type": "stream",
          "name": "stdout",
          "text": [
            "prediction: 7\n"
          ]
        },
        {
          "output_type": "display_data",
          "data": {
            "text/plain": [
              "<Figure size 640x480 with 1 Axes>"
            ],
            "image/png": "[encoded data removed]"
          },
          "metadata": {}
        }
      ]
    },
    {
      "cell_type": "code",
      "source": [],
      "metadata": {
        "id": "zKLyd2t6QE5x"
      },
      "execution_count": null,
      "outputs": []
    }
  ]
}